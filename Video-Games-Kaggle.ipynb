{
 "cells": [
  {
   "cell_type": "markdown",
   "metadata": {},
   "source": [
    "# Video Games Sales analysis "
   ]
  },
  {
   "cell_type": "code",
   "execution_count": null,
   "metadata": {},
   "outputs": [],
   "source": [
    "import pandas as pd\n",
    "import numpy as np\n",
    "\n",
    "import plotly.express as px\n",
    "import plotly.graph_objects as go\n",
    "import plotly.figure_factory as ff"
   ]
  },
  {
   "cell_type": "code",
   "execution_count": null,
   "metadata": {},
   "outputs": [],
   "source": [
    "data_file_path = \"data/vgsales-12-4-2019.csv\"\n",
    "companie_region_path = \"data/companies-regions.csv\"\n",
    "total_sales_column = \"Total_Sales\""
   ]
  },
  {
   "cell_type": "markdown",
   "metadata": {},
   "source": [
    "## Load data"
   ]
  },
  {
   "cell_type": "code",
   "execution_count": null,
   "metadata": {},
   "outputs": [],
   "source": [
    "# Load core data\n",
    "data_df = pd.read_csv(data_file_path)\n",
    "data_df.head()"
   ]
  },
  {
   "cell_type": "code",
   "execution_count": null,
   "metadata": {},
   "outputs": [],
   "source": [
    "# Load companie-region data\n",
    "region_df = pd.read_csv(companie_region_path)\n",
    "region_df.head()"
   ]
  },
  {
   "cell_type": "code",
   "execution_count": null,
   "metadata": {},
   "outputs": [],
   "source": [
    "df = pd.merge(data_df, region_df[['Developer', 'Country']], left_on='Publisher', right_on='Developer', how='left')\n",
    "df.head()"
   ]
  },
  {
   "cell_type": "code",
   "execution_count": null,
   "metadata": {},
   "outputs": [],
   "source": [
    "df.columns"
   ]
  },
  {
   "cell_type": "markdown",
   "metadata": {},
   "source": [
    "## Released games by year"
   ]
  },
  {
   "cell_type": "code",
   "execution_count": null,
   "metadata": {},
   "outputs": [],
   "source": [
    "df[total_sales_column] = df['Total_Shipped'].fillna(0) + df['Global_Sales'].fillna(0)"
   ]
  },
  {
   "cell_type": "code",
   "execution_count": null,
   "metadata": {},
   "outputs": [],
   "source": [
    "tdf = df.copy()\n",
    "# tdf['Year'] = df['Year'].fillna(df['Year'].mean())\n",
    "tdf = df[df['Year'].notna()] # Carefull about this\n",
    "tdf = tdf.sort_values('Year', ascending=True)"
   ]
  },
  {
   "cell_type": "code",
   "execution_count": null,
   "metadata": {},
   "outputs": [],
   "source": [
    "fig = px.histogram(\n",
    "    tdf,\n",
    "    x='Platform',\n",
    "    animation_frame='Year',\n",
    "    range_y=[0, 550],\n",
    ")\n",
    "fig.update_xaxes(type='category')\n",
    "fig.update_xaxes(categoryorder='category ascending')\n",
    "fig.show()"
   ]
  },
  {
   "cell_type": "code",
   "execution_count": null,
   "metadata": {},
   "outputs": [],
   "source": [
    "top_tdf = tdf.groupby(['Platform', 'Year']).agg({total_sales_column: 'count'}).reset_index()\n",
    "top_tdf.columns = ['Platform', 'Year', 'Count']\n",
    "top_tdf = top_tdf[top_tdf['Year'].isin([2016, 2017, 2018, 2019])]\n",
    "top_tdf = top_tdf[top_tdf['Count'] > top_tdf['Count'].sum() * 0.01]\n",
    "top_tdf['Year'] = top_tdf['Year'].astype(str)\n"
   ]
  },
  {
   "cell_type": "code",
   "execution_count": null,
   "metadata": {},
   "outputs": [],
   "source": [
    "fig = px.bar(\n",
    "    top_tdf,\n",
    "    x='Platform',\n",
    "    y='Count',\n",
    "    color='Year',\n",
    "    barmode=\"group\"\n",
    ")\n",
    "fig.update_layout(title=\"Total released video-games by platform\")\n",
    "fig.update_xaxes(type='category')\n",
    "fig.update_xaxes(categoryorder='category ascending')\n",
    "fig.show()"
   ]
  },
  {
   "cell_type": "markdown",
   "metadata": {},
   "source": [
    "## Sales analysis"
   ]
  },
  {
   "cell_type": "code",
   "execution_count": null,
   "metadata": {},
   "outputs": [],
   "source": [
    "platform_tdf = tdf.groupby(['Platform', 'Year']).agg({total_sales_column: 'sum'}).reset_index()\n",
    "platform_tdf = platform_tdf.sort_values('Year', ascending=True)\n",
    "platform_tdf.head()"
   ]
  },
  {
   "cell_type": "code",
   "execution_count": null,
   "metadata": {},
   "outputs": [],
   "source": [
    "fig = px.bar(\n",
    "    platform_tdf,\n",
    "    x='Platform',\n",
    "    y=total_sales_column,\n",
    "    animation_frame='Year',\n",
    "    range_y=[0, 150],\n",
    ")\n",
    "fig.update_xaxes(type='category')\n",
    "fig.update_xaxes(categoryorder='category ascending')\n",
    "fig.show()"
   ]
  },
  {
   "cell_type": "code",
   "execution_count": null,
   "metadata": {},
   "outputs": [],
   "source": [
    "platform_top_tdf = platform_tdf[platform_tdf['Year'].isin([2016, 2017, 2018, 2019])]\n",
    "platform_top_tdf = platform_top_tdf[platform_top_tdf[total_sales_column] > platform_top_tdf[total_sales_column].sum() * 0.005]\n",
    "platform_top_tdf['Year'] = platform_top_tdf['Year'].astype(str)\n",
    "\n",
    "fig = px.bar(\n",
    "    platform_top_tdf,\n",
    "    x='Platform',\n",
    "    y=total_sales_column,\n",
    "    color='Year',\n",
    "    barmode=\"group\"\n",
    ")\n",
    "fig.update_layout(title=\"Total sales by platforms (Millions)\")\n",
    "fig.update_xaxes(type='category')\n",
    "fig.update_xaxes(categoryorder='category ascending')\n",
    "fig.show()"
   ]
  },
  {
   "cell_type": "markdown",
   "metadata": {},
   "source": [
    "## Aggregated sales analysis "
   ]
  },
  {
   "cell_type": "code",
   "execution_count": null,
   "metadata": {},
   "outputs": [],
   "source": [
    "platform_sum_tdf = platform_tdf.groupby(['Platform']).agg({total_sales_column: 'sum'}).reset_index()\n",
    "platform_sum_tdf = platform_sum_tdf[platform_sum_tdf[total_sales_column] > platform_sum_tdf[total_sales_column].sum() * 0.03]"
   ]
  },
  {
   "cell_type": "code",
   "execution_count": null,
   "metadata": {},
   "outputs": [],
   "source": [
    "fig = px.bar(\n",
    "    platform_sum_tdf,\n",
    "    x='Platform',\n",
    "    y=total_sales_column,\n",
    ")\n",
    "fig.update_layout(title=\"Total sales of all time in the most important platforms (Millions)\")\n",
    "fig.update_xaxes(type='category')\n",
    "fig.update_xaxes(categoryorder='category ascending')\n",
    "fig.show()"
   ]
  },
  {
   "cell_type": "code",
   "execution_count": null,
   "metadata": {},
   "outputs": [],
   "source": [
    "platform_tmp_tdf = tdf.groupby(['Platform', 'Year']).agg({total_sales_column: ['sum', 'count']})\n",
    "# Here we can check "
   ]
  },
  {
   "cell_type": "markdown",
   "metadata": {},
   "source": [
    "# Distribución de las ventas"
   ]
  },
  {
   "cell_type": "code",
   "execution_count": null,
   "metadata": {},
   "outputs": [],
   "source": [
    "df.head()"
   ]
  },
  {
   "cell_type": "code",
   "execution_count": null,
   "metadata": {},
   "outputs": [],
   "source": [
    "regions = ['NA', 'JP', 'PAL', 'Other']\n",
    "region_sales_sufix = '_Sales'\n",
    "regions_agg = {}\n",
    "\n",
    "for region in regions:\n",
    "    regions_agg[region + region_sales_sufix] = 'sum'\n",
    "\n",
    "regions_agg[total_sales_column] = 'sum'\n",
    "regions_agg"
   ]
  },
  {
   "cell_type": "code",
   "execution_count": null,
   "metadata": {},
   "outputs": [],
   "source": [
    "geo_tdf = tdf.groupby(['Year']).agg(regions_agg).reset_index()\n",
    "geo_tdf = geo_tdf.sort_values('Year', ascending=True)\n",
    "geo_tdf.head(10)"
   ]
  },
  {
   "cell_type": "code",
   "execution_count": null,
   "metadata": {},
   "outputs": [],
   "source": [
    "fig = go.Figure()\n",
    "\n",
    "for region in regions:\n",
    "    \n",
    "    fig.add_trace(go.Scatter(\n",
    "        x=geo_tdf['Year'], \n",
    "        y=geo_tdf[region + region_sales_sufix], \n",
    "        mode='lines',\n",
    "        name=region,\n",
    "    ))\n",
    "fig.update_layout(title=\"Total sales per year by region (Millions)\")\n",
    "fig.update_xaxes(type='category')\n",
    "fig.show()"
   ]
  },
  {
   "cell_type": "markdown",
   "metadata": {},
   "source": [
    "# Distribution of sales by genre"
   ]
  },
  {
   "cell_type": "code",
   "execution_count": null,
   "metadata": {},
   "outputs": [],
   "source": [
    "genre_tdf = tdf.groupby(['Genre']).agg(regions_agg)\n",
    "genre_tdf = genre_tdf.sort_values(total_sales_column, ascending=False)\n",
    "genre_tdf.head()"
   ]
  },
  {
   "cell_type": "markdown",
   "metadata": {},
   "source": [
    "## Distribution of sales by genres and region"
   ]
  },
  {
   "cell_type": "code",
   "execution_count": null,
   "metadata": {},
   "outputs": [],
   "source": [
    "fig = px.imshow(genre_tdf.drop(total_sales_column, 1).T)\n",
    "fig.update_layout(title=\"Sales distribution by genre and region (Millions)\")\n",
    "fig.show()"
   ]
  },
  {
   "cell_type": "code",
   "execution_count": null,
   "metadata": {},
   "outputs": [],
   "source": [
    "# Reorder df to total genre scattewr plot\n",
    "genre_total_tdf = genre_tdf.reset_index().sort_values(total_sales_column, ascending=False)"
   ]
  },
  {
   "cell_type": "code",
   "execution_count": null,
   "metadata": {},
   "outputs": [],
   "source": [
    "fig = go.Figure()\n",
    "    \n",
    "fig.add_trace(go.Scatter(\n",
    "    x=genre_total_tdf['Genre'], \n",
    "    y=genre_total_tdf[total_sales_column], \n",
    "    mode='lines+markers',\n",
    "))\n",
    "fig.update_layout(title=\"Total sales by genre (Millions)\")\n",
    "fig.update_xaxes(type='category')\n",
    "# fig.update_xaxes(categoryorder='total descending')\n",
    "fig.show()"
   ]
  },
  {
   "cell_type": "code",
   "execution_count": null,
   "metadata": {},
   "outputs": [],
   "source": [
    "genre_tops = list(genre_total_tdf.loc[genre_total_tdf[total_sales_column] > genre_total_tdf[total_sales_column].sum() * 0.03, 'Genre'])\n",
    "genre_tops"
   ]
  },
  {
   "cell_type": "markdown",
   "metadata": {},
   "source": [
    "# Sales distribution by ESRB Rating"
   ]
  },
  {
   "cell_type": "code",
   "execution_count": null,
   "metadata": {},
   "outputs": [],
   "source": [
    "esrb_tdf = tdf.groupby('ESRB_Rating').agg({total_sales_column: 'sum'}).reset_index()\n",
    "esrb_tdf.head(10)"
   ]
  },
  {
   "cell_type": "code",
   "execution_count": null,
   "metadata": {},
   "outputs": [],
   "source": [
    "fig = px.bar(esrb_tdf, x='ESRB_Rating', y=total_sales_column)\n",
    "fig.show()"
   ]
  },
  {
   "cell_type": "code",
   "execution_count": null,
   "metadata": {},
   "outputs": [],
   "source": [
    "esrb_tops = list(esrb_tdf.loc[esrb_tdf[total_sales_column] > esrb_tdf[total_sales_column].sum() * 0.03, 'ESRB_Rating'])\n",
    "esrb_tops"
   ]
  },
  {
   "cell_type": "markdown",
   "metadata": {},
   "source": [
    "## Distribution of ESRB by region"
   ]
  },
  {
   "cell_type": "code",
   "execution_count": null,
   "metadata": {},
   "outputs": [],
   "source": [
    "esbr_region_tdf = tdf[tdf['ESRB_Rating'].isin(esrb_tops)].groupby(['ESRB_Rating']).agg(regions_agg)\n",
    "esbr_region_tdf.head()"
   ]
  },
  {
   "cell_type": "code",
   "execution_count": null,
   "metadata": {},
   "outputs": [],
   "source": [
    "z = esbr_region_tdf.drop(total_sales_column, 1).values\n",
    "x = esbr_region_tdf.drop(total_sales_column, 1).columns.tolist()\n",
    "y = esbr_region_tdf.drop(total_sales_column, 1).index.tolist()\n",
    "\n",
    "z_text = np.around(z)\n",
    "\n",
    "fig = ff.create_annotated_heatmap(z, x=x, y=y, annotation_text=z_text, colorscale='viridis')\n",
    "fig.update_layout(title=\"Sales distribution by genre and region (Millions)\")\n",
    "fig.show()"
   ]
  },
  {
   "cell_type": "markdown",
   "metadata": {},
   "source": [
    "## Distribution of ESRB by Genre"
   ]
  },
  {
   "cell_type": "code",
   "execution_count": null,
   "metadata": {},
   "outputs": [],
   "source": [
    "esrb_genre_tdf = tdf[tdf['ESRB_Rating'].isin(esrb_tops)].groupby(['ESRB_Rating', 'Genre']).agg({total_sales_column: 'sum'}).reset_index()\n",
    "esrb_genre_tdf.head(10)"
   ]
  },
  {
   "cell_type": "code",
   "execution_count": null,
   "metadata": {},
   "outputs": [],
   "source": [
    "esrb_genre_tdf = esrb_genre_tdf[esrb_genre_tdf['Genre'].isin(genre_tops)]\n",
    "esrb_genre_tdf = esrb_genre_tdf.pivot(index='ESRB_Rating', columns='Genre', values=total_sales_column)\n",
    "esrb_genre_tdf.head()"
   ]
  },
  {
   "cell_type": "code",
   "execution_count": null,
   "metadata": {},
   "outputs": [],
   "source": [
    "z = esrb_genre_tdf.values\n",
    "x = esrb_genre_tdf.columns.tolist()\n",
    "y = esrb_genre_tdf.index.tolist()\n",
    "\n",
    "z_text = np.around(z)\n",
    "\n",
    "fig = ff.create_annotated_heatmap(z, x=x, y=y, annotation_text=z_text, colorscale='viridis')\n",
    "fig.update_xaxes(categoryorder='total descending')\n",
    "fig.update_layout(title=\"Sales distribution by genre and ESRB (Millions)\")\n",
    "fig.show()"
   ]
  },
  {
   "cell_type": "markdown",
   "metadata": {},
   "source": [
    "# Publisher analysis"
   ]
  },
  {
   "cell_type": "code",
   "execution_count": null,
   "metadata": {},
   "outputs": [],
   "source": [
    "# Replace nana values in Country before groupby\n",
    "pub_tdf = tdf.copy()\n",
    "pub_tdf['Country'] = tdf['Country'].fillna(value='Unknown')\n",
    "\n",
    "# Groupby publisher and country\n",
    "pub_tdf = pub_tdf.groupby(['Publisher', 'Country']).agg({total_sales_column: ['sum', 'count']}).reset_index()\n",
    "pub_tdf.columns = ['Publisher', 'Country', 'Sales_Sum', 'Sales_Count']\n",
    "\n",
    "pub_tdf = pub_tdf[pub_tdf['Publisher'] != 'Unknown']\n",
    "\n",
    "pub_tdf.head()"
   ]
  },
  {
   "cell_type": "code",
   "execution_count": null,
   "metadata": {},
   "outputs": [],
   "source": [
    "# Filter 5% over sales or 5% over games published\n",
    "pub_tdf = pub_tdf[(pub_tdf['Sales_Sum'] > pub_tdf['Sales_Sum'].sum() * 0.01) |\n",
    "                  (pub_tdf['Sales_Count'] > pub_tdf['Sales_Count'].sum() * 0.01)\n",
    "                 ]"
   ]
  },
  {
   "cell_type": "markdown",
   "metadata": {},
   "source": [
    "## Publisher sales by region"
   ]
  },
  {
   "cell_type": "code",
   "execution_count": null,
   "metadata": {},
   "outputs": [],
   "source": [
    "# ad-hoc adjustment for Microsoft and Bandai\n",
    "microsoft_row = pub_tdf[pub_tdf['Publisher'].str.startswith('Microsoft')].sum()\n",
    "microsoft_row['Publisher'] = 'Microsoft'\n",
    "microsoft_row['Country'] = 'United States'\n",
    "bandai_row = pub_tdf[pub_tdf['Publisher'].str.endswith('Bandai')].sum()\n",
    "bandai_row['Publisher'] = 'Namco Bandai'\n",
    "bandai_row['Country'] = 'Japan'\n",
    "\n",
    "# Drop old columns\n",
    "pub_tdf = pub_tdf[~pub_tdf['Publisher'].str.startswith('Microsoft')]\n",
    "pub_tdf = pub_tdf[~pub_tdf['Publisher'].str.endswith('Bandai')]\n",
    "\n",
    "# Append new rows to teh DF\n",
    "pub_tdf = pub_tdf.append(microsoft_row, ignore_index=True)\n",
    "pub_tdf = pub_tdf.append(bandai_row, ignore_index=True)"
   ]
  },
  {
   "cell_type": "code",
   "execution_count": null,
   "metadata": {},
   "outputs": [],
   "source": [
    "pub_tdf = pub_tdf.sort_values('Sales_Sum', ascending=False)\n",
    "pub_tdf.head()"
   ]
  },
  {
   "cell_type": "code",
   "execution_count": null,
   "metadata": {},
   "outputs": [],
   "source": [
    "publisher_tops = list(pub_tdf['Publisher'])\n",
    "len(publisher_tops)"
   ]
  },
  {
   "cell_type": "code",
   "execution_count": null,
   "metadata": {},
   "outputs": [],
   "source": [
    "fig = px.scatter(\n",
    "    pub_tdf,\n",
    "    x='Publisher',\n",
    "    y='Sales_Sum',\n",
    "    size='Sales_Count',\n",
    "    color='Country',\n",
    ")\n",
    "fig.update_xaxes(categoryorder='total descending')\n",
    "fig.update_layout(title=\"Sales by publisher and region (Millions)\")\n",
    "fig.show()"
   ]
  },
  {
   "cell_type": "markdown",
   "metadata": {},
   "source": [
    "## Genres by publisher"
   ]
  },
  {
   "cell_type": "code",
   "execution_count": null,
   "metadata": {},
   "outputs": [],
   "source": [
    "pub_genre_df = tdf.groupby(['Publisher', 'Genre']).agg(regions_agg).reset_index()\n",
    "pub_genre_df = pub_genre_df[pub_genre_df['Publisher'].isin(publisher_tops)]\n",
    "pub_genre_df = pub_genre_df[pub_genre_df['Genre'].isin(genre_tops)]\n",
    "pub_genre_df.head()"
   ]
  },
  {
   "cell_type": "code",
   "execution_count": null,
   "metadata": {},
   "outputs": [],
   "source": [
    "fig = px.scatter(\n",
    "    pub_genre_df,\n",
    "    x='Publisher',\n",
    "    y=total_sales_column,\n",
    "    color='Genre',\n",
    ")\n",
    "fig.update_xaxes(categoryorder='total descending')\n",
    "fig.update_layout(title=\"Sales by publisher and genre (Millions)\")\n",
    "fig.show()"
   ]
  },
  {
   "cell_type": "code",
   "execution_count": null,
   "metadata": {},
   "outputs": [],
   "source": [
    "# Re-create the df to only select top 10 Publishers\n",
    "pub_genre_df = tdf.groupby(['Publisher', 'Genre']).agg(regions_agg).reset_index()\n",
    "pub_genre_df = pub_genre_df[pub_genre_df['Publisher'].isin(publisher_tops[:10])]\n",
    "pub_genre_df = pub_genre_df[pub_genre_df['Genre'].isin(genre_tops)]\n",
    "pub_genre_df.head()\n",
    "\n",
    "pub_genre_pivot_df = pub_genre_df.pivot(index='Publisher', columns='Genre', values=total_sales_column)\n",
    "\n",
    "z = pub_genre_pivot_df.values\n",
    "x = pub_genre_pivot_df.columns.tolist()\n",
    "y = pub_genre_pivot_df.index.tolist()\n",
    "\n",
    "z_text = np.around(z)\n",
    "\n",
    "# Create heatmap\n",
    "fig = ff.create_annotated_heatmap(z, x=x, y=y, annotation_text=z_text, colorscale='viridis')\n",
    "fig.update_xaxes(categoryorder='total descending')\n",
    "fig.update_layout(title=\"Sales by publisher and genre (Millions)\")\n",
    "fig.show()"
   ]
  },
  {
   "cell_type": "code",
   "execution_count": null,
   "metadata": {},
   "outputs": [],
   "source": []
  }
 ],
 "metadata": {
  "kernelspec": {
   "display_name": "Python 3",
   "language": "python",
   "name": "python3"
  },
  "language_info": {
   "codemirror_mode": {
    "name": "ipython",
    "version": 3
   },
   "file_extension": ".py",
   "mimetype": "text/x-python",
   "name": "python",
   "nbconvert_exporter": "python",
   "pygments_lexer": "ipython3",
   "version": "3.7.6"
  }
 },
 "nbformat": 4,
 "nbformat_minor": 4
}
